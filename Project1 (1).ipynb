{
 "cells": [
  {
   "cell_type": "code",
   "execution_count": 50,
   "id": "819fa76c-542a-49c3-b9e8-d8a6cb530d03",
   "metadata": {},
   "outputs": [
    {
     "name": "stdout",
     "output_type": "stream",
     "text": [
      "Collecting gtts\n",
      "  Downloading gTTS-2.5.3-py3-none-any.whl.metadata (4.1 kB)\n",
      "Requirement already satisfied: requests<3,>=2.27 in c:\\users\\rohan singh\\anacon\\lib\\site-packages (from gtts) (2.32.2)\n",
      "Requirement already satisfied: click<8.2,>=7.1 in c:\\users\\rohan singh\\anacon\\lib\\site-packages (from gtts) (8.1.7)\n",
      "Requirement already satisfied: colorama in c:\\users\\rohan singh\\anacon\\lib\\site-packages (from click<8.2,>=7.1->gtts) (0.4.6)\n",
      "Requirement already satisfied: charset-normalizer<4,>=2 in c:\\users\\rohan singh\\anacon\\lib\\site-packages (from requests<3,>=2.27->gtts) (2.0.4)\n",
      "Requirement already satisfied: idna<4,>=2.5 in c:\\users\\rohan singh\\anacon\\lib\\site-packages (from requests<3,>=2.27->gtts) (3.7)\n",
      "Requirement already satisfied: urllib3<3,>=1.21.1 in c:\\users\\rohan singh\\anacon\\lib\\site-packages (from requests<3,>=2.27->gtts) (2.2.2)\n",
      "Requirement already satisfied: certifi>=2017.4.17 in c:\\users\\rohan singh\\anacon\\lib\\site-packages (from requests<3,>=2.27->gtts) (2024.8.30)\n",
      "Downloading gTTS-2.5.3-py3-none-any.whl (29 kB)\n",
      "Installing collected packages: gtts\n",
      "Successfully installed gtts-2.5.3\n"
     ]
    }
   ],
   "source": [
    "# pip install pyttsx3\n",
    "!pip install gtts"
   ]
  },
  {
   "cell_type": "code",
   "execution_count": 194,
   "id": "c60d4cf0-aaff-40c4-994d-494c110ae695",
   "metadata": {},
   "outputs": [],
   "source": [
    "import speech_recognition as sr\n",
    "import pyttsx3"
   ]
  },
  {
   "cell_type": "code",
   "execution_count": 15,
   "id": "e5b18de7-845f-415a-af97-08f9c364e264",
   "metadata": {},
   "outputs": [],
   "source": [
    "import os\n",
    "import webbrowser\n",
    "import requests"
   ]
  },
  {
   "cell_type": "code",
   "execution_count": 17,
   "id": "d13ca444-d89c-4d7c-a81f-8f99dd1fb744",
   "metadata": {},
   "outputs": [],
   "source": [
    "import datetime"
   ]
  },
  {
   "cell_type": "code",
   "execution_count": 86,
   "id": "ad60b318-c06d-41d1-8c13-74bc4a980616",
   "metadata": {},
   "outputs": [],
   "source": [
    "from gtts import gTTS\n",
    "import playsound\n",
    "\n",
    "\n",
    "# Initialize the recognizer and text-to-speech engine\n",
    "recognizer = sr.Recognizer()\n",
    "engine = pyttsx3.init()\n",
    "\n",
    "# Function to make the assistant speak\n",
    "\n",
    "import pygame\n",
    "import os\n",
    "\n",
    "def speak(text):\n",
    "    tts = gTTS(text=text, lang='en')\n",
    "    filename = \"temp_audio.mp3\"\n",
    "    tts.save(filename)\n",
    "\n",
    "    # Initialize pygame mixer\n",
    "    pygame.mixer.init()\n",
    "    pygame.mixer.music.load(filename)\n",
    "    pygame.mixer.music.play()\n",
    "\n",
    "    # Wait until the sound finishes playing\n",
    "    while pygame.mixer.music.get_busy():\n",
    "        continue\n",
    "\n",
    "    pygame.mixer.quit()\n",
    "    os.remove(filename)  \n",
    "\n",
    "def listen():\n",
    "    with sr.Microphone() as source:\n",
    "        print(\"Listening...\")\n",
    "        recognizer.adjust_for_ambient_noise(source,duration=0.5)\n",
    "        audio = recognizer.listen(source,timeout=5,phrase_time_limit=5)\n",
    "\n",
    "        try:\n",
    "            command = recognizer.recognize_google(audio)\n",
    "            print(f\"Rohan said: {command}\")\n",
    "            return command.lower()\n",
    "        except sr.UnknownValueError:\n",
    "            speak(\"Sorry, I did not catch that. Please repeat.\")\n",
    "            return \"None\"\n",
    "        except sr.RequestError:\n",
    "            speak(\"Sorry, I am unable to access Google Speech API right now.\")\n",
    "            return \"None\"\n",
    "\n",
    "def get_time():\n",
    "    now = datetime.datetime.now()\n",
    "    time_str = now.strftime(\"%H:%M:%S\")\n",
    "    return time_str\n",
    "\n",
    "def get_date():\n",
    "    today = datetime.datetime.today()\n",
    "    date_str = today.strftime(\"%B %d, %Y\")\n",
    "    return date_str\n",
    "import requests\n",
    "\n"
   ]
  },
  {
   "cell_type": "code",
   "execution_count": 97,
   "id": "11216c8d-294d-48eb-864f-21f27981611d",
   "metadata": {},
   "outputs": [
    {
     "name": "stderr",
     "output_type": "stream",
     "text": [
      "[nltk_data] Downloading package punkt to C:\\Users\\Rohan\n",
      "[nltk_data]     Singh\\AppData\\Roaming\\nltk_data...\n",
      "[nltk_data]   Unzipping tokenizers\\punkt.zip.\n"
     ]
    },
    {
     "data": {
      "text/plain": [
       "True"
      ]
     },
     "execution_count": 97,
     "metadata": {},
     "output_type": "execute_result"
    }
   ],
   "source": [
    "import nltk\n",
    "from nltk.tokenize import word_tokenize\n",
    "nltk.download('punkt')"
   ]
  },
  {
   "cell_type": "code",
   "execution_count": 99,
   "id": "43f96884-1f16-4934-bf8c-537e583a706e",
   "metadata": {},
   "outputs": [],
   "source": [
    "from nltk.corpus import stopwords\n",
    "from nltk.stem import WordNetLemmatizer"
   ]
  },
  {
   "cell_type": "code",
   "execution_count": 101,
   "id": "05d1f9f6-5ea3-4a69-8275-b2d7786413a1",
   "metadata": {},
   "outputs": [
    {
     "name": "stderr",
     "output_type": "stream",
     "text": [
      "[nltk_data] Downloading package stopwords to C:\\Users\\Rohan\n",
      "[nltk_data]     Singh\\AppData\\Roaming\\nltk_data...\n",
      "[nltk_data]   Unzipping corpora\\stopwords.zip.\n",
      "[nltk_data] Downloading package wordnet to C:\\Users\\Rohan\n",
      "[nltk_data]     Singh\\AppData\\Roaming\\nltk_data...\n"
     ]
    },
    {
     "data": {
      "text/plain": [
       "True"
      ]
     },
     "execution_count": 101,
     "metadata": {},
     "output_type": "execute_result"
    }
   ],
   "source": [
    "nltk.download('stopwords')\n",
    "nltk.download('wordnet')"
   ]
  },
  {
   "cell_type": "code",
   "execution_count": 103,
   "id": "1fecc025-0409-4438-8f8b-dc7a0bbe100d",
   "metadata": {},
   "outputs": [],
   "source": [
    "lemmatizer = WordNetLemmatizer()\n",
    "stop_words = set(stopwords.words('english'))"
   ]
  },
  {
   "cell_type": "code",
   "execution_count": 107,
   "id": "7156b6fa-074e-4a64-b2c2-6d8b987b6ff6",
   "metadata": {},
   "outputs": [],
   "source": [
    "def classify_command(command):\n",
    "    words = word_tokenize(command.lower())\n",
    "    processed_words = [\n",
    "        lemmatizer.lemmatize(word) for word in words if word not in stop_words\n",
    "    ]\n",
    "    categories = {\n",
    "        'time': ['time', 'current', 'now', 'tell me the time', 'what is the time'],\n",
    "        'date': ['date', 'today', 'what is the date', 'current date'],\n",
    "        'weather': ['weather', 'temperature', 'forecast', 'city', 'what is the weather', 'how is the weather'],\n",
    "        'open': ['open', 'launch', 'start', 'go to'],\n",
    "        'exit': ['exit', 'stop', 'quit', 'close'],\n",
    "        'search': ['search', 'look up', 'find', 'google', 'search for'],\n",
    "        'schedule': ['schedule', 'add', 'create', 'appointment', 'reminder'],\n",
    "        'music': ['play', 'music', 'song', 'play music', 'sing']\n",
    "    }\n",
    "    for category, keywords in categories.items():\n",
    "        for keyword in keywords:\n",
    "            if any(keyword in word for word in processed_words):\n",
    "                return category\n",
    "    \n",
    "    return 'unknown'  \n"
   ]
  },
  {
   "cell_type": "code",
   "execution_count": 159,
   "id": "d623bb14-05d4-49f5-b7f0-a114b21292ac",
   "metadata": {},
   "outputs": [],
   "source": [
    "def classify_command(command):\n",
    "    words = word_tokenize(command.lower())\n",
    "    processed_words = [\n",
    "        lemmatizer.lemmatize(word) for word in words if word not in stop_words\n",
    "    ]\n",
    "\n",
    "\n",
    "    categories = {\n",
    "        'time': ['time', 'current', 'now', 'tell me the time', 'what is the time'],\n",
    "        'date': ['date', 'today', 'what is the date', 'current date'],\n",
    "        'weather': ['weather', 'temperature', 'forecast', 'city', 'what is the weather', 'how is the weather'],\n",
    "        'open': ['open', 'launch', 'start', 'go to'],\n",
    "        'exit': ['exit', 'stop', 'quit', 'close'],\n",
    "        'search': ['search', 'look up', 'find', 'google', 'search for'],\n",
    "        'schedule': ['schedule', 'add', 'create', 'appointment', 'reminder'],\n",
    "        'music': ['play', 'music', 'song', 'play music', 'sing']\n",
    "    }\n",
    "    for category, keywords in categories.items():\n",
    "        for keyword in keywords:\n",
    "            if any(keyword in word for word in processed_words):\n",
    "                return category\n",
    "    \n",
    "    return 'unknown'  \n"
   ]
  },
  {
   "cell_type": "code",
   "execution_count": 161,
   "id": "06a2210d-68d7-4f4c-8ff3-610164d275b9",
   "metadata": {},
   "outputs": [],
   "source": [
    "import webbrowser\n",
    "def open_website(command):\n",
    "    websites = {\n",
    "        \"google\": \"https://www.google.com\",\n",
    "        \"youtube\": \"https://www.youtube.com\",\n",
    "        \"facebook\": \"https://www.facebook.com\",\n",
    "        \"twitter\": \"https://www.twitter.com\",\n",
    "        \"gmail\": \"https://mail.google.com\",\n",
    "    }\n",
    "    for site_name, url in websites.items():\n",
    "        if site_name in command:\n",
    "            webbrowser.open(url)\n",
    "            return f\"Opening {site_name}\"\n",
    "    \n",
    "    return \"Sorry, I don't know how to open that application.\"\n"
   ]
  },
  {
   "cell_type": "code",
   "execution_count": 187,
   "id": "96eba95b-e486-4d71-81a5-a38c6c0ff0f4",
   "metadata": {},
   "outputs": [],
   "source": [
    "import json\n",
    "import os\n",
    "\n",
    "def save_command_to_json(command, category):  # Keep 'category' as parameter name\n",
    "    file_path = \"C:\\\\Users\\\\Rohan Singh\\\\OneDrive\\\\Desktop\\\\new exl document.txt\"  \n",
    "    if os.path.exists(file_path):\n",
    "        # Check if the file is empty\n",
    "        if os.path.getsize(file_path) == 0:\n",
    "            data = []  # Initialize as an empty list\n",
    "        else:\n",
    "            with open(file_path, 'r') as file:\n",
    "                try:\n",
    "                    data = json.load(file)\n",
    "                except json.JSONDecodeError:\n",
    "                    print(f\"Error reading JSON data from {file_path}. File might be corrupted.\")\n",
    "                    return\n",
    "    else:\n",
    "        data = []  \n",
    "    data.append({\"command\": command, \"label\": category}) \n",
    "    with open(file_path, 'w') as file:\n",
    "        json.dump(data, file, indent=4)"
   ]
  },
  {
   "cell_type": "code",
   "execution_count": 189,
   "id": "35a64374-0325-419f-a8d2-e7c6cb15620a",
   "metadata": {},
   "outputs": [],
   "source": [
    "def get_weather(city_name):\n",
    "    api_key = \"dd595ee9637f42dfafd170114242309\"  \n",
    "    base_url = f\"http://api.weatherapi.com/v1/current.json?key={api_key}&q={city_name}\"\n",
    "\n",
    "    response = requests.get(base_url)\n",
    "    weather_data = response.json()\n",
    "    \n",
    "    if \"error\" not in weather_data:\n",
    "        current_weather = weather_data[\"current\"]\n",
    "        temperature = current_weather[\"temp_c\"]\n",
    "        weather_desc = current_weather[\"condition\"][\"text\"]\n",
    "        wind = current_weather[\"wind_kph\"]\n",
    "        cloud = current_weather[\"cloud\"]\n",
    "        feels_like = current_weather[\"feelslike_c\"]\n",
    "        is_day = current_weather[\"is_day\"]\n",
    "        humidity = current_weather[\"humidity\"]\n",
    "        \n",
    "        time_of_day = \"daytime\" if is_day else \"night\"\n",
    "        \n",
    "        weather_info=( f\"The current temperature in {city_name} is {temperature}°C during {time_of_day} with {weather_desc}. \"\n",
    "        f\"It feels like {feels_like}°C, with wind speeds of {wind} kilometers per hour. \"\n",
    "        f\"Cloud cover is {cloud}%, and the humidity is {humidity}%.\")    \n",
    "\n",
    "        print(weather_info)\n",
    "        return weather_info\n",
    "    else:\n",
    "        return \"City not found. Please try again.\"\n",
    "\n",
    "def process_command(command):\n",
    "    command_category=classify_command(command)\n",
    "    save_command_to_json(command, command_category)\n",
    "    if 'date' in command and 'time' in command:\n",
    "        current_time=get_time()\n",
    "        current_date=get_date()\n",
    "        speak(f\"Today is {current_date} and the time now is {current_time}\")\n",
    "    elif command_category=='time':\n",
    "        current_time = get_time()\n",
    "        speak(f\"The time is {current_time}\")\n",
    "    elif command_category=='date':\n",
    "        current_date = get_date()\n",
    "        speak(f\"Today's date is {current_date}\")\n",
    "    elif command_category=='weather':\n",
    "        speak(\"Which city?\")\n",
    "        city = listen()\n",
    "        if city != \"None\":\n",
    "            weather_info = get_weather(city)\n",
    "            speak(weather_info)\n",
    "    elif command_category == 'search':\n",
    "        query = command.replace(\"search\", \"\").strip()\n",
    "        if query:\n",
    "            speak(f\"Searching for {query} on the web.\")\n",
    "            webbrowser.open(f\"https://www.google.com/search?q={query}\")\n",
    "        else:\n",
    "            speak(\"What would you like to search for?\")\n",
    "    elif command_category == 'music':\n",
    "        song_query = command.replace(\"play\", \"\").strip()  \n",
    "        if song_query:\n",
    "            speak(f\"Playing {song_query} on YouTube.\")\n",
    "            webbrowser.open(f\"https://www.youtube.com/results?search_query={song_query}\")\n",
    "        else:\n",
    "            speak(\"What song would you like to play?\")     \n",
    "    elif command_category=='open':\n",
    "        if 'notepad' in command:\n",
    "            speak(\"Opening Notepad\")\n",
    "            os.system('notepad')\n",
    "        elif 'calculator' in command:\n",
    "            speak(\"Opening Calculator\")\n",
    "            os.system('calc')\n",
    "        response = open_website(command)\n",
    "        speak(response)\n",
    "    else:\n",
    "        speak(\"Sorry, I don't know how to respond to that.\")\n",
    "\n"
   ]
  },
  {
   "cell_type": "code",
   "execution_count": null,
   "id": "b14f6db1-d825-41b8-be1a-1d7c45163b2b",
   "metadata": {},
   "outputs": [],
   "source": []
  },
  {
   "cell_type": "code",
   "execution_count": 25,
   "id": "7500919b-dfe4-4356-a96a-6291910c07d2",
   "metadata": {},
   "outputs": [
    {
     "name": "stdout",
     "output_type": "stream",
     "text": [
      "Collecting pyaudio\n",
      "  Downloading PyAudio-0.2.14-cp312-cp312-win_amd64.whl.metadata (2.7 kB)\n",
      "Downloading PyAudio-0.2.14-cp312-cp312-win_amd64.whl (164 kB)\n",
      "   ---------------------------------------- 0.0/164.1 kB ? eta -:--:--\n",
      "   -- ------------------------------------- 10.2/164.1 kB ? eta -:--:--\n",
      "   ------- ------------------------------- 30.7/164.1 kB 325.1 kB/s eta 0:00:01\n",
      "   ------------------- ------------------- 81.9/164.1 kB 762.6 kB/s eta 0:00:01\n",
      "   ---------------------------------------- 164.1/164.1 kB 1.1 MB/s eta 0:00:00\n",
      "Installing collected packages: pyaudio\n",
      "Successfully installed pyaudio-0.2.14\n"
     ]
    }
   ],
   "source": [
    "!pip install pyaudio"
   ]
  },
  {
   "cell_type": "code",
   "execution_count": 191,
   "id": "04f911f2-137a-4d1a-ad2f-8b23c4553ad4",
   "metadata": {},
   "outputs": [
    {
     "name": "stdout",
     "output_type": "stream",
     "text": [
      "Listening...\n",
      "Rohan said: what is the weather\n",
      "Command 'what is the weather' with label 'weather' saved to C:\\Users\\Rohan Singh\\OneDrive\\Desktop\\new exl document.txt.\n",
      "Listening...\n",
      "Rohan said: Kanpur\n",
      "The current temperature in kanpur is 35.8°C during daytime with Sunny. It feels like 40.7°C, with wind speeds of 6.8 kilometers per hour. Cloud cover is 6%, and the humidity is 44%.\n",
      "Listening...\n",
      "Rohan said: stop\n"
     ]
    }
   ],
   "source": [
    "if __name__ == \"__main__\":\n",
    "    speak(\"Hello Rohan, I am your assistant. How can I help you today?\")\n",
    "    \n",
    "    while True:\n",
    "        command = listen()\n",
    "        if command == \"None\":\n",
    "            continue\n",
    "        if 'exit' in command or 'stop' in command:\n",
    "            speak(\"Goodbye Rohan Hope you will need me again!\")\n",
    "            break\n",
    "        else:\n",
    "            process_command(command)"
   ]
  },
  {
   "cell_type": "code",
   "execution_count": null,
   "id": "7c3b73dd-7c24-44d9-a38e-e0964750b191",
   "metadata": {},
   "outputs": [],
   "source": []
  }
 ],
 "metadata": {
  "kernelspec": {
   "display_name": "Python 3 (ipykernel)",
   "language": "python",
   "name": "python3"
  },
  "language_info": {
   "codemirror_mode": {
    "name": "ipython",
    "version": 3
   },
   "file_extension": ".py",
   "mimetype": "text/x-python",
   "name": "python",
   "nbconvert_exporter": "python",
   "pygments_lexer": "ipython3",
   "version": "3.12.4"
  }
 },
 "nbformat": 4,
 "nbformat_minor": 5
}
